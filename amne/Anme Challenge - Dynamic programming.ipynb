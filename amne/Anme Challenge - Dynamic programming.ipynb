{
 "cells": [
  {
   "cell_type": "code",
   "execution_count": null,
   "metadata": {},
   "outputs": [],
   "source": [
    "# Compiled and run with Python 2.7"
   ]
  },
  {
   "cell_type": "code",
   "execution_count": null,
   "metadata": {},
   "outputs": [],
   "source": [
    "import time"
   ]
  },
  {
   "cell_type": "code",
   "execution_count": null,
   "metadata": {},
   "outputs": [],
   "source": [
    "from collections import deque"
   ]
  },
  {
   "cell_type": "code",
   "execution_count": null,
   "metadata": {},
   "outputs": [],
   "source": [
    "# Open the file\n",
    "f = open('input.txt')\n",
    "\n",
    "# Strip away new line and leading/trailing whitespace\n",
    "lines = [line.strip() for line in f.readlines()]\n",
    "\n",
    "# Cast the first input of n and k to int\n",
    "n, k = [int(num) for num in lines[0].split(' ')]\n",
    "nums = [int(num) for num in lines[1].split(' ')]"
   ]
  },
  {
   "cell_type": "code",
   "execution_count": null,
   "metadata": {},
   "outputs": [],
   "source": [
    "def compute_triangular(n):\n",
    "#     if cache[n] == -1:\n",
    "#         cache[n] = n * (n+1) / 2\n",
    "#     return cache[n]\n",
    "    return n * (n+1) / 2"
   ]
  },
  {
   "cell_type": "code",
   "execution_count": null,
   "metadata": {},
   "outputs": [],
   "source": [
    "def adjust_label(increase, decrease, new_num, old_num):\n",
    "    compare = cmp(new_num, old_num)\n",
    "    # Increasing subrange\n",
    "    if compare == 1:\n",
    "        # Interupt negative consecutive\n",
    "        if decrease[-1] > 0:\n",
    "            decrease.append(0)\n",
    "        increase[-1] += 1\n",
    "    # Decreasing subrange\n",
    "    elif compare == -1:\n",
    "        # Interupt positive consecutive\n",
    "        if increase[-1] > 0:\n",
    "            increase.append(0)\n",
    "        decrease[-1] += 1\n",
    "    # Equal subrange\n",
    "    else:\n",
    "        # Interupt any consecutive going on\n",
    "        if decrease[-1] > 0:\n",
    "            decrease.append(0)\n",
    "        if increase[-1] > 0:\n",
    "            increase.append(0)"
   ]
  },
  {
   "cell_type": "code",
   "execution_count": null,
   "metadata": {},
   "outputs": [],
   "source": [
    "def print_ranges(arr, k):\n",
    "    '''\n",
    "    Mimicking a do-while loop. \n",
    "    Get the initial valid subrange, calculating the consecutive labels and sum,\n",
    "    then within a for loop skipping over the initial range, add the next element \n",
    "    to the subrange after the removal of the first element in the range is processed.\n",
    "    \n",
    "    During the removal of the leading element, we adjust the consecutive labels.\n",
    "    By comparing the first 2 leading elements, we can find out whether it came from either\n",
    "    of the positive or negative chain or neither. If it comes from either chain, we adjust\n",
    "    the sum by that label before decreasing or removing it (if decreasing it make it 0).\n",
    "    \n",
    "    During adding the next element, we also adjust the consecutive labels.\n",
    "    If it is an increment, we simply add the newly updated increase chain label,\n",
    "    otherwise if it is a decrement, we simply take away the newly updated decrease chain label.\n",
    "    If it is an equal, then we do nothing\n",
    "    \n",
    "    We store each of the number in the out_array to print all at once at the end to avoid\n",
    "    I/O overhead cost.\n",
    "    '''\n",
    "    if k > len(arr):\n",
    "        print 'Given a bigger window than the available numbers/data points.'\n",
    "        return\n",
    "    \n",
    "    # Output array to print all at once at the end\n",
    "    out_array = []\n",
    "    \n",
    "    # Store the initial subrange\n",
    "    cur_deque = deque(arr[0:k])\n",
    "    \n",
    "    # Making the initial label\n",
    "    # Start out with 0 for the first element\n",
    "    increase = deque([0])\n",
    "    decrease = deque([0])\n",
    "    \n",
    "    # Skip over the first elem evaluation\n",
    "    for i in range(1, len(cur_deque)):\n",
    "        cur_num = cur_deque[i]\n",
    "        prev_num = cur_deque[i-1]\n",
    "        adjust_label(increase, decrease, cur_num, prev_num)\n",
    "    \n",
    "    # Making initial sum\n",
    "    cur_sum = 0\n",
    "    \n",
    "    for num in increase:\n",
    "        cur_sum += compute_triangular(num)\n",
    "    for num in decrease:\n",
    "        cur_sum -= compute_triangular(num)\n",
    "\n",
    "    # Result of the first subrange\n",
    "    out_array.append(str(cur_sum))\n",
    "    \n",
    "    for i in range(k, len(arr)):\n",
    "        # remove the first item\n",
    "        removed_num = cur_deque.popleft()\n",
    "        \n",
    "        # Check to see if it interupts positive or negative consecutive chain\n",
    "        if removed_num < cur_deque[0]:\n",
    "            assert increase[0] != 0 # should never be 0 if it came from positive chain\n",
    "            cur_sum -= increase[0]\n",
    "            # Decrease consecutive chain if possible, otherwise remove the consecutive\n",
    "            if (increase[0] - 1) > 0:\n",
    "                increase[0] -= 1\n",
    "            else:\n",
    "                increase.popleft()\n",
    "        elif removed_num > cur_deque[0]:\n",
    "            assert decrease[0] != 0 # should never be 0 if it came from negative chain\n",
    "            cur_sum += decrease[0]\n",
    "            # Decrease consecutive chain if possible, otherwise remove the consecutive\n",
    "            if (decrease[0] - 1) > 0:\n",
    "                decrease[0] -= 1\n",
    "            else:\n",
    "                decrease.popleft()\n",
    "\n",
    "        # add new item (store the last current element before doing so)\n",
    "        new_num = arr[i]\n",
    "        old_num = cur_deque[-1]\n",
    "        cur_deque.append(new_num)\n",
    "        \n",
    "        # adjust consecutive chain\n",
    "        adjust_label(increase, decrease, new_num, old_num)\n",
    "        # Increasing subrange\n",
    "        if new_num > old_num:\n",
    "            cur_sum += increase[-1]\n",
    "        # Decreasing subrange\n",
    "        elif new_num < old_num:\n",
    "            cur_sum -= decrease[-1]\n",
    "        \n",
    "        out_array.append(str(cur_sum))\n",
    "    print '\\n'.join(out_array)"
   ]
  },
  {
   "cell_type": "code",
   "execution_count": null,
   "metadata": {},
   "outputs": [],
   "source": [
    "def time_func(arr, k):\n",
    "    start = time.time()\n",
    "    print_ranges(arr, k)\n",
    "    end = time.time()\n",
    "    return end-start"
   ]
  },
  {
   "cell_type": "code",
   "execution_count": null,
   "metadata": {},
   "outputs": [],
   "source": [
    "q = time_func([3,4,5,2,2], 8)"
   ]
  },
  {
   "cell_type": "code",
   "execution_count": null,
   "metadata": {},
   "outputs": [],
   "source": [
    "q"
   ]
  }
 ],
 "metadata": {
  "kernelspec": {
   "display_name": "Python 2",
   "language": "python",
   "name": "python2"
  },
  "language_info": {
   "codemirror_mode": {
    "name": "ipython",
    "version": 2
   },
   "file_extension": ".py",
   "mimetype": "text/x-python",
   "name": "python",
   "nbconvert_exporter": "python",
   "pygments_lexer": "ipython2",
   "version": "2.7.14"
  }
 },
 "nbformat": 4,
 "nbformat_minor": 2
}
