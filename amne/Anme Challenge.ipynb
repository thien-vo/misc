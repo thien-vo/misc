{
 "cells": [
  {
   "cell_type": "code",
   "execution_count": null,
   "metadata": {},
   "outputs": [],
   "source": [
    "# Compiled and run with Python 2.7"
   ]
  },
  {
   "cell_type": "code",
   "execution_count": null,
   "metadata": {},
   "outputs": [],
   "source": [
    "# Open the file\n",
    "f = open('input.txt')\n",
    "\n",
    "# Strip away new line and leading/trailing whitespace\n",
    "lines = [line.strip() for line in f.readlines()]\n",
    "\n",
    "# Cast the first input of n and k to int\n",
    "n, k = [int(num) for num in lines[0].split(' ')]\n",
    "nums = [int(num) for num in lines[1].split(' ')]"
   ]
  },
  {
   "cell_type": "code",
   "execution_count": null,
   "metadata": {},
   "outputs": [],
   "source": [
    "(n,k)"
   ]
  },
  {
   "cell_type": "code",
   "execution_count": null,
   "metadata": {},
   "outputs": [],
   "source": [
    "nums"
   ]
  },
  {
   "cell_type": "code",
   "execution_count": null,
   "metadata": {},
   "outputs": [],
   "source": [
    "def biggest_tendency(arr):\n",
    "    if len(arr) == 0:\n",
    "        return 0\n",
    "    elif arr[-1] == 0:\n",
    "        return 0\n",
    "    \n",
    "    result = 0\n",
    "    is_positive = arr[-1] > 0\n",
    "    \n",
    "    # Skip over the last one\n",
    "    for i in reversed(range(len(arr)-1)):\n",
    "        if (arr[i] > 0) == is_positive:\n",
    "            result += 1\n",
    "        else:\n",
    "            return result\n",
    "    return result"
   ]
  },
  {
   "cell_type": "code",
   "execution_count": null,
   "metadata": {},
   "outputs": [],
   "source": [
    "def label_array(arr):\n",
    "    tendencies = []\n",
    "    for i in range(0, len(arr) - 1):\n",
    "        cur_num = arr[i]\n",
    "        next_num = arr[i+1]\n",
    "        if next_num == cur_num:\n",
    "            tendencies.append(0)\n",
    "        else:\n",
    "            if next_num > cur_num:\n",
    "                tendencies.append(1)\n",
    "            else:\n",
    "                tendencies.append(-1)\n",
    "            num_to_add = biggest_tendency(tendencies)\n",
    "            tendencies[-1] += num_to_add\n",
    "    return tendencies"
   ]
  },
  {
   "cell_type": "code",
   "execution_count": null,
   "metadata": {},
   "outputs": [],
   "source": [
    "def break_into_subarrays(arr, k):\n",
    "    subarrays = []\n",
    "    for i in range(0, len(arr) - (k-1)):\n",
    "        subarrays.append(arr[i:(i+k)])\n",
    "    return subarrays"
   ]
  },
  {
   "cell_type": "code",
   "execution_count": null,
   "metadata": {},
   "outputs": [],
   "source": [
    "break_into_subarrays(nums, 5)"
   ]
  },
  {
   "cell_type": "code",
   "execution_count": null,
   "metadata": {},
   "outputs": [],
   "source": [
    "def print_ranges(arr, k):\n",
    "    subarrays = break_into_subarrays(arr, k)\n",
    "    for subarr in subarrays:\n",
    "        print sum(label_array(subarr))"
   ]
  },
  {
   "cell_type": "code",
   "execution_count": null,
   "metadata": {},
   "outputs": [],
   "source": [
    "print_ranges(nums, 5)"
   ]
  },
  {
   "cell_type": "code",
   "execution_count": null,
   "metadata": {},
   "outputs": [],
   "source": []
  }
 ],
 "metadata": {
  "kernelspec": {
   "display_name": "Python 2",
   "language": "python",
   "name": "python2"
  },
  "language_info": {
   "codemirror_mode": {
    "name": "ipython",
    "version": 2
   },
   "file_extension": ".py",
   "mimetype": "text/x-python",
   "name": "python",
   "nbconvert_exporter": "python",
   "pygments_lexer": "ipython2",
   "version": "2.7.14"
  }
 },
 "nbformat": 4,
 "nbformat_minor": 2
}
